{
 "cells": [
  {
   "cell_type": "code",
   "execution_count": 1,
   "id": "de858a02-0baa-46cf-a64e-50245f91c87d",
   "metadata": {},
   "outputs": [
    {
     "name": "stdout",
     "output_type": "stream",
     "text": [
      "Requirement already satisfied: kaggle in c:\\users\\hp\\appdata\\local\\programs\\python\\python310\\lib\\site-packages (1.6.17)\n",
      "Requirement already satisfied: six>=1.10 in c:\\users\\hp\\appdata\\local\\programs\\python\\python310\\lib\\site-packages (from kaggle) (1.16.0)\n",
      "Requirement already satisfied: certifi>=2023.7.22 in c:\\users\\hp\\appdata\\local\\programs\\python\\python310\\lib\\site-packages (from kaggle) (2024.7.4)\n",
      "Requirement already satisfied: python-dateutil in c:\\users\\hp\\appdata\\local\\programs\\python\\python310\\lib\\site-packages (from kaggle) (2.9.0.post0)\n",
      "Requirement already satisfied: requests in c:\\users\\hp\\appdata\\local\\programs\\python\\python310\\lib\\site-packages (from kaggle) (2.32.3)\n",
      "Requirement already satisfied: tqdm in c:\\users\\hp\\appdata\\local\\programs\\python\\python310\\lib\\site-packages (from kaggle) (4.66.4)\n",
      "Requirement already satisfied: python-slugify in c:\\users\\hp\\appdata\\local\\programs\\python\\python310\\lib\\site-packages (from kaggle) (8.0.4)\n",
      "Requirement already satisfied: urllib3 in c:\\users\\hp\\appdata\\local\\programs\\python\\python310\\lib\\site-packages (from kaggle) (2.2.2)\n",
      "Requirement already satisfied: bleach in c:\\users\\hp\\appdata\\local\\programs\\python\\python310\\lib\\site-packages (from kaggle) (6.1.0)\n",
      "Requirement already satisfied: webencodings in c:\\users\\hp\\appdata\\local\\programs\\python\\python310\\lib\\site-packages (from bleach->kaggle) (0.5.1)\n",
      "Requirement already satisfied: text-unidecode>=1.3 in c:\\users\\hp\\appdata\\local\\programs\\python\\python310\\lib\\site-packages (from python-slugify->kaggle) (1.3)\n",
      "Requirement already satisfied: charset-normalizer<4,>=2 in c:\\users\\hp\\appdata\\local\\programs\\python\\python310\\lib\\site-packages (from requests->kaggle) (3.3.2)\n",
      "Requirement already satisfied: idna<4,>=2.5 in c:\\users\\hp\\appdata\\local\\programs\\python\\python310\\lib\\site-packages (from requests->kaggle) (3.7)\n",
      "Requirement already satisfied: colorama in c:\\users\\hp\\appdata\\local\\programs\\python\\python310\\lib\\site-packages (from tqdm->kaggle) (0.4.6)\n",
      "Note: you may need to restart the kernel to use updated packages.\n"
     ]
    }
   ],
   "source": [
    "pip install kaggle"
   ]
  },
  {
   "cell_type": "code",
   "execution_count": 2,
   "id": "861f06e4-e24d-4e86-bd29-15b4b948d565",
   "metadata": {},
   "outputs": [
    {
     "name": "stdout",
     "output_type": "stream",
     "text": [
      "Skipping, found downloaded files in \".\\us-accidents\" (use force=True to force download)\n"
     ]
    }
   ],
   "source": [
    "import opendatasets as od\n",
    "import pandas\n",
    "\n",
    "od.download(\n",
    "\t\"https://www.kaggle.com/sobhanmoosavi/us-accidents\")"
   ]
  },
  {
   "cell_type": "code",
   "execution_count": 3,
   "id": "49660e15-32be-4298-9922-9d6202b76e3e",
   "metadata": {},
   "outputs": [],
   "source": [
    "import os\n",
    "for dirname, _, filenames in os.walk('/kaggle/input'):\n",
    "    for filename in filenames:\n",
    "        print(os.path.join(dirname, filename))"
   ]
  },
  {
   "cell_type": "code",
   "execution_count": 4,
   "id": "d7737262-34df-474a-8de7-a8c0e923755a",
   "metadata": {},
   "outputs": [],
   "source": [
    "import pandas as pd\n",
    "import numpy as np\n",
    "import matplotlib.pyplot as plt\n",
    "import seaborn as sns\n",
    "import missingno as mn\n",
    "import plotly.graph_objects as go"
   ]
  },
  {
   "cell_type": "code",
   "execution_count": 5,
   "id": "cb198ea0-6c47-4555-bcf9-1a0fbe5ed15f",
   "metadata": {},
   "outputs": [],
   "source": [
    "from matplotlib.ticker import FuncFormatter\n",
    "import matplotlib.ticker as ticker\n",
    "import matplotlib.patches as mpatches\n",
    "import matplotlib.patheffects as PathEffects\n",
    "%matplotlib inline\n",
    "\n",
    "import calendar\n",
    "import plotly as pt\n",
    "from plotly import graph_objs as go\n",
    "import plotly.express as px\n",
    "import plotly.figure_factory as ff\n",
    "from pylab import *\n",
    "\n",
    "import plotly.graph_objects as go\n",
    "from nltk.corpus import stopwords\n",
    "\n",
    "import geopandas as gpd\n",
    "import geoplot\n",
    "from geopy.geocoders import Nominatim\n",
    "\n",
    "import warnings\n",
    "warnings.filterwarnings('ignore')"
   ]
  },
  {
   "cell_type": "code",
   "execution_count": 6,
   "id": "a138792a-de03-47c0-a16f-720cc9f4a2fd",
   "metadata": {},
   "outputs": [],
   "source": [
    "data_filepath = r\"C:\\Users\\hp\\Desktop\\python projects\\task 4\\us-accidents\\US_Accidents_March23.csv\""
   ]
  },
  {
   "cell_type": "code",
   "execution_count": null,
   "id": "cf7b6849-29fa-4f2c-a819-4a1cb6dfd5a3",
   "metadata": {},
   "outputs": [],
   "source": [
    "df = pd.read_csv(data_filepath, engine='python')\n",
    "df.head(10)"
   ]
  },
  {
   "cell_type": "code",
   "execution_count": null,
   "id": "9179a6b9-1c8d-4289-99a4-d6d7de70e832",
   "metadata": {},
   "outputs": [],
   "source": [
    "# Checking the columns in the data\n",
    "df.columns"
   ]
  },
  {
   "cell_type": "code",
   "execution_count": null,
   "id": "c510ea74-f067-4a34-a4db-247b69077bd3",
   "metadata": {},
   "outputs": [],
   "source": [
    "print(\"Number of columns: \",len(df.columns))\n",
    "print(\"Number of rows: \",len(df))"
   ]
  },
  {
   "cell_type": "code",
   "execution_count": null,
   "id": "badb4fe0-2056-4383-9117-5de805d3da4c",
   "metadata": {},
   "outputs": [],
   "source": [
    "df.info()"
   ]
  },
  {
   "cell_type": "code",
   "execution_count": null,
   "id": "5de6a83b-9f96-44e4-a3b7-a0e097ef0cbc",
   "metadata": {},
   "outputs": [],
   "source": [
    "df.describe()"
   ]
  },
  {
   "cell_type": "code",
   "execution_count": null,
   "id": "0dcb1073-1c22-47ef-aaa4-4230cc944c0a",
   "metadata": {},
   "outputs": [],
   "source": [
    "len(df.select_dtypes(['int64', 'float64']).columns)"
   ]
  },
  {
   "cell_type": "code",
   "execution_count": null,
   "id": "c1e5d5e3-5cbc-44f4-bc66-9911d4912811",
   "metadata": {},
   "outputs": [],
   "source": [
    "df.isnull().sum()]"
   ]
  },
  {
   "cell_type": "code",
   "execution_count": null,
   "id": "3f2eef26-9781-463a-89dc-24522d0efa11",
   "metadata": {},
   "outputs": [],
   "source": [
    "df.isna().sum()"
   ]
  },
  {
   "cell_type": "code",
   "execution_count": null,
   "id": "4c80613e-695f-4b61-8ced-930f47bcd4c5",
   "metadata": {},
   "outputs": [],
   "source": [
    "df.isna().sum().sort_values(ascending=False) * 100. / len(df)"
   ]
  },
  {
   "cell_type": "code",
   "execution_count": null,
   "id": "d4ff39cf-72a2-47bc-848f-4df3285834f4",
   "metadata": {},
   "outputs": [],
   "source": [
    "# Plotting a Pandas.Series data\n",
    "missing_data = df.isna().sum().sort_values(ascending=False) * 100. / len(df)"
   ]
  },
  {
   "cell_type": "code",
   "execution_count": null,
   "id": "287067e8-3af2-4ecc-8372-7e21dcf0fafe",
   "metadata": {},
   "outputs": [],
   "source": [
    "type(missing_data) # we can directly plot the Pandas.Series using plot()"
   ]
  },
  {
   "cell_type": "code",
   "execution_count": null,
   "id": "6dff3848-f50d-464d-979d-47e3e53a5ba9",
   "metadata": {},
   "outputs": [],
   "source": [
    "missing_data.plot(kind='bar')"
   ]
  },
  {
   "cell_type": "code",
   "execution_count": null,
   "id": "220021c4-cbaa-4201-86ce-9d6bbc7ee088",
   "metadata": {},
   "outputs": [],
   "source": [
    "missing_data[missing_data!=0].plot(kind='barh')"
   ]
  },
  {
   "cell_type": "code",
   "execution_count": null,
   "id": "b39b8478-b96a-4bac-9618-7ade92ea73c4",
   "metadata": {},
   "outputs": [],
   "source": [
    "# Printing all the columns\n",
    "df.columns"
   ]
  },
  {
   "cell_type": "code",
   "execution_count": null,
   "id": "34705343-5c5c-485f-95f9-4da8de97f4ff",
   "metadata": {},
   "outputs": [],
   "source": [
    "df.City.unique()"
   ]
  },
  {
   "cell_type": "code",
   "execution_count": null,
   "id": "bbbab239-ef6d-4c0e-ac0e-025bb392ff5e",
   "metadata": {},
   "outputs": [],
   "source": [
    "cities = df.City.unique()\n",
    "len(cities)"
   ]
  },
  {
   "cell_type": "code",
   "execution_count": null,
   "id": "d70419ec-32f8-4d38-8e0f-0f2a56527413",
   "metadata": {},
   "outputs": [],
   "source": [
    "cities_by_accident = df.City.value_counts()\n",
    "cities_by_accident[:20]"
   ]
  },
  {
   "cell_type": "code",
   "execution_count": null,
   "id": "b8cca510-a140-40d2-bf51-14e07937f3c3",
   "metadata": {},
   "outputs": [],
   "source": [
    "'New York' in cities"
   ]
  },
  {
   "cell_type": "code",
   "execution_count": null,
   "id": "0d82a82f-5e4e-4fc6-afe5-de545c9f19c4",
   "metadata": {},
   "outputs": [],
   "source": [
    "cities_by_accident[\"New York\"]"
   ]
  },
  {
   "cell_type": "code",
   "execution_count": null,
   "id": "bef2bd4e-fb81-4ab9-9372-1444ccf6dc6e",
   "metadata": {},
   "outputs": [],
   "source": [
    "cities_by_accident[:20].plot(kind='barh')"
   ]
  },
  {
   "cell_type": "code",
   "execution_count": null,
   "id": "7d1ef3f7-df7c-4dc6-a154-98b1476439b2",
   "metadata": {},
   "outputs": [],
   "source": [
    "import seaborn as sns\n",
    "sns.set_style(\"darkgrid\")"
   ]
  },
  {
   "cell_type": "code",
   "execution_count": null,
   "id": "b0cb431a-8be6-440a-a50f-dcda6030d650",
   "metadata": {},
   "outputs": [],
   "source": [
    "sns.distplot(cities_by_accident)"
   ]
  },
  {
   "cell_type": "code",
   "execution_count": null,
   "id": "9e6d45be-7c4a-4654-97f4-74f2082f6414",
   "metadata": {},
   "outputs": [],
   "source": [
    "high_accident_cities = cities_by_accident[cities_by_accident >=1000] # having over 1000 accidents\n",
    "low_accident_cities = cities_by_accident[cities_by_accident < 1000]  # having less than 1000 accidents"
   ]
  },
  {
   "cell_type": "code",
   "execution_count": null,
   "id": "469cba01-c377-40c5-b76f-cf8affb62d6b",
   "metadata": {},
   "outputs": [],
   "source": [
    "# Percentage of high accident cities\n",
    "len(high_accident_cities) / len(cities_by_accident)"
   ]
  },
  {
   "cell_type": "code",
   "execution_count": null,
   "id": "9e545bd3-3a75-4dc8-b88a-3ecef061ec9f",
   "metadata": {},
   "outputs": [],
   "source": [
    "# Distribution of high accident cities\n",
    "sns.distplot(high_accident_cities)"
   ]
  },
  {
   "cell_type": "code",
   "execution_count": null,
   "id": "7dbfad77-aefd-41bf-92de-c8d22a2e07aa",
   "metadata": {},
   "outputs": [],
   "source": [
    "# Distribution of low accident cities\n",
    "sns.distplot(low_accident_cities)"
   ]
  },
  {
   "cell_type": "code",
   "execution_count": null,
   "id": "1d991849-0c38-4118-bf89-90e601de7bf9",
   "metadata": {},
   "outputs": [],
   "source": [
    "# Distribution of low accident cities\n",
    "sns.histplot(low_accident_cities, log_scale=True)"
   ]
  },
  {
   "cell_type": "code",
   "execution_count": null,
   "id": "976482fe-f41d-411b-861c-c9550207651c",
   "metadata": {},
   "outputs": [],
   "source": [
    "# Distribution of high accident cities\n",
    "sns.histplot(high_accident_cities, log_scale=True)"
   ]
  },
  {
   "cell_type": "code",
   "execution_count": null,
   "id": "8bf7809d-68bf-4ec6-b986-3d3d4fa7cdb5",
   "metadata": {},
   "outputs": [],
   "source": [
    "cities_by_accident[cities_by_accident == 1]"
   ]
  },
  {
   "cell_type": "code",
   "execution_count": null,
   "id": "8c278daa-3f31-4e9c-aa80-e02a1cf3e3f1",
   "metadata": {},
   "outputs": [],
   "source": [
    "#checking out an entry\n",
    "df.Start_Time[0]"
   ]
  },
  {
   "cell_type": "code",
   "execution_count": null,
   "id": "66ae6f52-673c-4bc7-a375-943c66faa778",
   "metadata": {},
   "outputs": [],
   "source": [
    "# converting date time to correct format\n",
    "df.Start_Time = pd.to_datetime(df.Start_Time)"
   ]
  },
  {
   "cell_type": "code",
   "execution_count": null,
   "id": "60e3bdd9-d2e4-4c03-8f48-4586415a2d02",
   "metadata": {},
   "outputs": [],
   "source": [
    "df.Start_Time[0]"
   ]
  },
  {
   "cell_type": "code",
   "execution_count": null,
   "id": "ecd3d374-643c-4168-bda5-afebd37dd537",
   "metadata": {},
   "outputs": [],
   "source": [
    "# Segregating the different aspects of date-time\n",
    "df.Start_Time[0].day, df.Start_Time[0].month, df.Start_Time[0].year, df.Start_Time[0].hour, df.Start_Time[0].minute, df.Start_Time[0].second"
   ]
  },
  {
   "cell_type": "code",
   "execution_count": null,
   "id": "3558ec93-07ee-4b9f-85cb-c39b0eaee01e",
   "metadata": {},
   "outputs": [],
   "source": [
    "df.Start_Time.dt.hour"
   ]
  },
  {
   "cell_type": "code",
   "execution_count": null,
   "id": "eb66a508-f00c-4097-b20e-af02db8ba3eb",
   "metadata": {},
   "outputs": [],
   "source": [
    "sns.histplot(df.Start_Time.dt.hour, bins=24) "
   ]
  },
  {
   "cell_type": "code",
   "execution_count": null,
   "id": "f4403226-1ac8-484f-acb9-b462d74e63a3",
   "metadata": {},
   "outputs": [],
   "source": [
    "sns.histplot(df.Start_Time.dt.hour, bins=24, stat='density')"
   ]
  },
  {
   "cell_type": "code",
   "execution_count": null,
   "id": "4421c329-20de-4971-ab00-fbb3f82253da",
   "metadata": {},
   "outputs": [],
   "source": [
    "sns.histplot(df.Start_Time.dt.dayofweek, bins=7, stat='density')"
   ]
  },
  {
   "cell_type": "code",
   "execution_count": null,
   "id": "663f9b25-5b9f-4516-a5ac-ca74a639aa19",
   "metadata": {},
   "outputs": [],
   "source": [
    "sundays_start_time = df.Start_Time[df.Start_Time.dt.dayofweek == 6]"
   ]
  },
  {
   "cell_type": "code",
   "execution_count": null,
   "id": "60dc9eac-cfc6-4308-8839-d7f3a69927f6",
   "metadata": {},
   "outputs": [],
   "source": [
    "sns.histplot(sundays_start_time.dt.hour, bins=24, stat='density')"
   ]
  },
  {
   "cell_type": "code",
   "execution_count": null,
   "id": "f97ccd14-56c7-449e-af4e-1246c40d6310",
   "metadata": {},
   "outputs": [],
   "source": [
    "saturdays_start_time = df.Start_Time[df.Start_Time.dt.dayofweek == 5]\n",
    "sns.histplot(saturdays_start_time.dt.hour, bins=24, stat='density')"
   ]
  },
  {
   "cell_type": "code",
   "execution_count": null,
   "id": "58c7d8c6-0cf7-4c31-b870-a9b26530f9c8",
   "metadata": {},
   "outputs": [],
   "source": [
    "mondays_start_time = df.Start_Time[df.Start_Time.dt.dayofweek == 0]\n",
    "sns.histplot(mondays_start_time.dt.hour, bins=24, stat='density')"
   ]
  },
  {
   "cell_type": "code",
   "execution_count": null,
   "id": "8e8796ae-ce7f-487b-bf73-5aeaa179794b",
   "metadata": {},
   "outputs": [],
   "source": [
    "wednesdays_start_time = df.Start_Time[df.Start_Time.dt.dayofweek == 2]\n",
    "sns.histplot(wednesdays_start_time.dt.hour, bins=24, stat='density')"
   ]
  },
  {
   "cell_type": "code",
   "execution_count": null,
   "id": "1b92ff27-bc3f-4ad3-bb69-639d5e7a555f",
   "metadata": {},
   "outputs": [],
   "source": [
    "sns.histplot(df.Start_Time.dt.month, bins=12, stat='density')"
   ]
  },
  {
   "cell_type": "code",
   "execution_count": null,
   "id": "4ebb8afd-b336-4d2c-a338-f55d369f77a7",
   "metadata": {},
   "outputs": [],
   "source": [
    "df_particular_year = df[df.Start_Time.dt.year == 2016]\n",
    "sns.histplot(df_particular_year.Start_Time.dt.month, bins=12, stat='density')"
   ]
  },
  {
   "cell_type": "code",
   "execution_count": null,
   "id": "c1f93a3f-6ef3-4937-af48-28f93a2fbd7f",
   "metadata": {},
   "outputs": [],
   "source": [
    "df_particular_year = df[df.Start_Time.dt.year == 2017]\n",
    "sns.histplot(df_particular_year.Start_Time.dt.month, bins=12, stat='density')"
   ]
  },
  {
   "cell_type": "code",
   "execution_count": null,
   "id": "69d951f5-7b4a-4453-a599-a7d957f7d016",
   "metadata": {},
   "outputs": [],
   "source": [
    "df_particular_year = df[df.Start_Time.dt.year == 2018]\n",
    "sns.histplot(df_particular_year.Start_Time.dt.month, bins=12, stat='density')"
   ]
  },
  {
   "cell_type": "code",
   "execution_count": null,
   "id": "3ae193ed-06d9-4d58-a8f7-f3096abbc5a2",
   "metadata": {},
   "outputs": [],
   "source": [
    "df_particular_year = df[df.Start_Time.dt.year == 2019]\n",
    "sns.histplot(df_particular_year.Start_Time.dt.month, bins=12, stat='density')"
   ]
  },
  {
   "cell_type": "code",
   "execution_count": null,
   "id": "49df8cb1-1f01-447f-a36a-a65c5f110bb8",
   "metadata": {},
   "outputs": [],
   "source": [
    "df_particular_year = df[df.Start_Time.dt.year == 2020]\n",
    "sns.histplot(df_particular_year.Start_Time.dt.month, bins=12, stat='density')"
   ]
  },
  {
   "cell_type": "code",
   "execution_count": null,
   "id": "09e4c4b9-773c-435d-9b46-5323071cd25d",
   "metadata": {},
   "outputs": [],
   "source": [
    "df.Start_Lat"
   ]
  },
  {
   "cell_type": "code",
   "execution_count": null,
   "id": "bd5c9f53-43ad-45fd-bdff-c78f38e9c346",
   "metadata": {},
   "outputs": [],
   "source": [
    "df.Start_Lng"
   ]
  },
  {
   "cell_type": "code",
   "execution_count": null,
   "id": "b0854a0e-23e6-4537-b8ff-201efda122e5",
   "metadata": {},
   "outputs": [],
   "source": [
    "plt.figure(figsize=(15,10))\n",
    "sns.scatterplot(y=df.Start_Lat, x=df.Start_Lng)"
   ]
  },
  {
   "cell_type": "code",
   "execution_count": null,
   "id": "795461bd-7687-4553-90a6-666aa21deb14",
   "metadata": {},
   "outputs": [],
   "source": [
    "df.info()"
   ]
  },
  {
   "cell_type": "code",
   "execution_count": null,
   "id": "40101507-4131-4f8b-9a9c-2d45cc047bbc",
   "metadata": {},
   "outputs": [],
   "source": [
    "plt.figure(figsize=(20,15))\n",
    "sns.scatterplot(y=df.Start_Lat, x=df.Start_Lng, hue=df.State)"
   ]
  },
  {
   "cell_type": "code",
   "execution_count": null,
   "id": "76317cff-f0d4-442f-9ae0-07f981703dae",
   "metadata": {},
   "outputs": [],
   "source": [
    "plt.figure(figsize=(20,15))\n",
    "sns.scatterplot(y=df.Start_Lat, x=df.Start_Lng, hue=df.Severity)"
   ]
  },
  {
   "cell_type": "code",
   "execution_count": null,
   "id": "084afec5-0772-4ac7-aea0-af5fd164b36a",
   "metadata": {},
   "outputs": [],
   "source": [
    "df.State.value_counts()[:25]"
   ]
  },
  {
   "cell_type": "code",
   "execution_count": null,
   "id": "3a2c27a1-3e90-4e21-b7b9-6214d29b5715",
   "metadata": {},
   "outputs": [],
   "source": [
    "pie, ax = plt.subplots(figsize=[15,15])\n",
    "labels = df.State.value_counts().keys()\n",
    "plt.pie(x=df.State.value_counts(), autopct=\"%.1f%%\", explode=[0.1]*len(df.State.value_counts()), labels=labels, pctdistance=0.5)\n",
    "plt.show();"
   ]
  },
  {
   "cell_type": "code",
   "execution_count": null,
   "id": "8d836fb7-b6c8-4b75-a0b2-43d0af1dcaca",
   "metadata": {},
   "outputs": [],
   "source": [
    "# Segregating accidents on the basis of severity\n",
    "severe_accidents_4 = df[df.Severity==4].State.value_counts()\n",
    "severe_accidents_3 = df[df.Severity==3].State.value_counts()\n",
    "severe_accidents_2 = df[df.Severity==2].State.value_counts()\n",
    "severe_accidents_1 = df[df.Severity==1].State.value_counts()"
   ]
  },
  {
   "cell_type": "code",
   "execution_count": null,
   "id": "086ab421-242c-45f6-b65f-1342b734baf6",
   "metadata": {},
   "outputs": [],
   "source": [
    "fig, ax1 = plt.subplots(figsize=[25,25])\n",
    "ax1 = plt.subplot2grid((2,2),(0,0))\n",
    "labels = severe_accidents_1.keys()\n",
    "plt.pie(x=severe_accidents_1, autopct=\"%.1f%%\", explode=[0.1]*len(severe_accidents_1), labels=labels, pctdistance=0.5)\n",
    "plt.title(\"least Severe Accidents: Severity=1\", fontsize=20)\n",
    "\n",
    "ax1 = plt.subplot2grid((2,2),(0,1))\n",
    "labels = severe_accidents_2.keys()\n",
    "plt.pie(x=severe_accidents_2, autopct=\"%.1f%%\", explode=[0.1]*len(severe_accidents_2), labels=labels, pctdistance=0.5)\n",
    "plt.title(\"less Severe Accidents: Severity=2\", fontsize=20)\n",
    "\n",
    "ax1 = plt.subplot2grid((2,2),(1,0))\n",
    "labels = severe_accidents_3.keys()\n",
    "plt.pie(x=severe_accidents_3, autopct=\"%.1f%%\", explode=[0.1]*len(severe_accidents_3), labels=labels, pctdistance=0.5)\n",
    "plt.title(\"Severe Accidents: Severity=3\", fontsize=20)\n",
    "\n",
    "ax1 = plt.subplot2grid((2,2),(1,1))\n",
    "labels = severe_accidents_4.keys()\n",
    "plt.pie(x=severe_accidents_4, autopct=\"%.1f%%\", explode=[0.1]*len(severe_accidents_4), labels=labels, pctdistance=0.5)\n",
    "plt.title(\"Most Severe Accidents: Severity=4\", fontsize=20)"
   ]
  },
  {
   "cell_type": "code",
   "execution_count": null,
   "id": "a4daa7af-3ab1-47d2-910e-00832ef2f359",
   "metadata": {},
   "outputs": [],
   "source": [
    "list(zip(list(df.Start_Lat), list(df.Start_Lng)))"
   ]
  },
  {
   "cell_type": "code",
   "execution_count": null,
   "id": "fdaf4e02-4649-4422-8ad0-73049897d5fb",
   "metadata": {},
   "outputs": [],
   "source": [
    "import random"
   ]
  },
  {
   "cell_type": "code",
   "execution_count": null,
   "id": "9889be3a-6ca3-4a1d-9c01-b30ded5b2e55",
   "metadata": {},
   "outputs": [],
   "source": [
    "df_sample = df.sample(10000)"
   ]
  },
  {
   "cell_type": "code",
   "execution_count": null,
   "id": "93b62a23-3017-43ff-86fb-4148871f70ee",
   "metadata": {},
   "outputs": [],
   "source": [
    "df_sample.Start_Lat"
   ]
  },
  {
   "cell_type": "code",
   "execution_count": null,
   "id": "bb3f0b90-83d9-4849-b2c9-902a5d0810db",
   "metadata": {},
   "outputs": [],
   "source": [
    "df.columns"
   ]
  },
  {
   "cell_type": "code",
   "execution_count": null,
   "id": "054e44bb-cfed-4564-9a2c-0df5e6b71498",
   "metadata": {},
   "outputs": [],
   "source": [
    "df['Visibility(mi)']"
   ]
  },
  {
   "cell_type": "code",
   "execution_count": null,
   "id": "43f0e46d-8742-4693-ab28-967d6feb80ec",
   "metadata": {},
   "outputs": [],
   "source": [
    "df['Visibility(mi)'].value_counts()"
   ]
  },
  {
   "cell_type": "code",
   "execution_count": null,
   "id": "d8545243-44f3-41c0-9aff-288cdd9fae9b",
   "metadata": {},
   "outputs": [],
   "source": [
    "df[(df.Severity == 4) & (df['Visibility(mi)'] <=10)]  # data when severity is high and visibility is moderate"
   ]
  },
  {
   "cell_type": "code",
   "execution_count": null,
   "id": "e448f99f-dc5c-4e4a-9b68-1271d37dbc94",
   "metadata": {},
   "outputs": [],
   "source": [
    "(len(df[df['Visibility(mi)'] <=2]) / len(df) )* 100. # total percentage of accidents in which visibility was less than 2 miles"
   ]
  },
  {
   "cell_type": "code",
   "execution_count": null,
   "id": "8004f750-9d63-43d8-a982-f4a00d428af8",
   "metadata": {},
   "outputs": [],
   "source": [
    "(len(df[(df['Visibility(mi)'] <=2) & (df['Severity'] ==4)]) / len(df) ) * 100. # total percentage of accidents in which visibility was less than 2 miles and severity was very high"
   ]
  },
  {
   "cell_type": "code",
   "execution_count": null,
   "id": "19fb79d4-56eb-4e67-b78a-1a7ed7141a8a",
   "metadata": {},
   "outputs": [],
   "source": [
    "weather = df.Weather_Condition.value_counts()"
   ]
  },
  {
   "cell_type": "code",
   "execution_count": null,
   "id": "6ad04424-ca65-4f04-bce0-2cb1bc64cc66",
   "metadata": {},
   "outputs": [],
   "source": [
    "weather[weather > 1000]  # Kind of weather when no. of accidents were greater than 1000"
   ]
  },
  {
   "cell_type": "code",
   "execution_count": null,
   "id": "37064eda-39c7-4c75-b018-bdbc1147a958",
   "metadata": {},
   "outputs": [],
   "source": [
    "pie, ax = plt.subplots(figsize=[15,15])\n",
    "labels = weather[weather > 1000].keys()\n",
    "plt.pie(x=weather[weather > 1000], autopct=\"%.1f%%\", explode=[0.1]*len(weather[weather > 1000]), labels=labels, pctdistance=0.5)\n",
    "plt.show();"
   ]
  },
  {
   "cell_type": "code",
   "execution_count": null,
   "id": "09840b1f-6750-4555-8692-8e4bb3615e3e",
   "metadata": {},
   "outputs": [],
   "source": [
    "df['Temperature(F)']"
   ]
  },
  {
   "cell_type": "code",
   "execution_count": null,
   "id": "de0290e9-f2a5-4555-a2ad-52db87ff97ab",
   "metadata": {},
   "outputs": [],
   "source": [
    "df['Temperature(F)'].value_counts()"
   ]
  },
  {
   "cell_type": "code",
   "execution_count": null,
   "id": "da02531a-78c9-4133-b037-5e6323be63e3",
   "metadata": {},
   "outputs": [],
   "source": [
    "temperature = df['Temperature(F)'].value_counts()"
   ]
  },
  {
   "cell_type": "code",
   "execution_count": null,
   "id": "17b20dd2-6595-41c7-9b35-37c15a72483b",
   "metadata": {},
   "outputs": [],
   "source": [
    "temperature.index"
   ]
  },
  {
   "cell_type": "code",
   "execution_count": null,
   "id": "725c6f9d-80e7-4377-9561-eca3b0a6160b",
   "metadata": {},
   "outputs": [],
   "source": [
    "temperature.values"
   ]
  },
  {
   "cell_type": "code",
   "execution_count": null,
   "id": "ad9ea070-27d8-481c-b60d-5448e4e50b4f",
   "metadata": {},
   "outputs": [],
   "source": [
    "plt.figure(figsize=(10,5))\n",
    "sns.scatterplot(x=temperature.index, y=temperature.values)\n",
    "plt.show();"
   ]
  },
  {
   "cell_type": "code",
   "execution_count": null,
   "id": "2ca5d587-c242-4017-b66b-ef1f1a8f3329",
   "metadata": {},
   "outputs": [],
   "source": [
    "df.Sunrise_Sunset.value_counts()"
   ]
  },
  {
   "cell_type": "code",
   "execution_count": null,
   "id": "8596fbee-deff-4794-a007-9a9bf9e09cb8",
   "metadata": {},
   "outputs": [],
   "source": [
    "pie, ax = plt.subplots(figsize=[6,6])\n",
    "labels = df.Sunrise_Sunset.value_counts().keys()\n",
    "plt.pie(x=df.Sunrise_Sunset.value_counts(), autopct=\"%.1f%%\", explode=[0.01]*len(df.Sunrise_Sunset.value_counts()), labels=labels, pctdistance=0.5)\n",
    "plt.title(\"Day/Night Distribution of accidents\")\n",
    "plt.show();"
   ]
  },
  {
   "cell_type": "code",
   "execution_count": null,
   "id": "a1195615-d5b0-4fd5-84d6-d4d564dcf105",
   "metadata": {},
   "outputs": [],
   "source": [
    "df.columns"
   ]
  },
  {
   "cell_type": "code",
   "execution_count": null,
   "id": "f45ee3a5-8256-4048-ba25-95dc3659f7ae",
   "metadata": {},
   "outputs": [],
   "source": [
    "amenity = df.Amenity.groupby(df.Severity).value_counts()\n",
    "amenity"
   ]
  },
  {
   "cell_type": "code",
   "execution_count": null,
   "id": "d8a26101-6faf-47cb-8d3b-e9dbc11fc39e",
   "metadata": {},
   "outputs": [],
   "source": [
    "amenity.index"
   ]
  },
  {
   "cell_type": "code",
   "execution_count": null,
   "id": "b697cf14-6a66-4e66-a94a-3ed00b73fa96",
   "metadata": {},
   "outputs": [],
   "source": [
    "no_exit = df.No_Exit.groupby(df.Severity).value_counts()\n",
    "no_exit"
   ]
  },
  {
   "cell_type": "code",
   "execution_count": null,
   "id": "e18ccf42-9d10-4965-8397-a773f18af5d4",
   "metadata": {},
   "outputs": [],
   "source": [
    "railway = df.Railway.groupby(df.Severity).value_counts()\n",
    "railway"
   ]
  },
  {
   "cell_type": "code",
   "execution_count": null,
   "id": "6c90e1ec-95d6-4201-ab92-a15b15ae9451",
   "metadata": {},
   "outputs": [],
   "source": [
    "traffic_calming = df.Traffic_Calming.groupby(df.Severity).value_counts()\n",
    "traffic_calming"
   ]
  },
  {
   "cell_type": "code",
   "execution_count": null,
   "id": "38366975-0b8a-4bf2-b667-a09d36b5371c",
   "metadata": {},
   "outputs": [],
   "source": [
    "stop = df.Stop.groupby(df.Severity).value_counts()\n",
    "stop"
   ]
  },
  {
   "cell_type": "code",
   "execution_count": null,
   "id": "1f473d15-97d0-4a39-9128-41dedb67c141",
   "metadata": {},
   "outputs": [],
   "source": [
    "traffic_signal = df.Traffic_Signal.groupby(df.Severity).value_counts()\n",
    "traffic_signal"
   ]
  },
  {
   "cell_type": "code",
   "execution_count": null,
   "id": "63e4b21b-08ca-4bdb-bc3c-079e6956689a",
   "metadata": {},
   "outputs": [],
   "source": [
    "give_way = df.Give_Way.groupby(df.Severity).value_counts()\n",
    "give_way"
   ]
  },
  {
   "cell_type": "code",
   "execution_count": null,
   "id": "4d8bd54b-5c42-4eb2-9386-d9c1cc211ccd",
   "metadata": {},
   "outputs": [],
   "source": [
    "bump = df.Bump.groupby(df.Severity).value_counts()\n",
    "bump"
   ]
  },
  {
   "cell_type": "code",
   "execution_count": null,
   "id": "1495297d-c855-4b8f-a7c2-5c962506cfae",
   "metadata": {},
   "outputs": [],
   "source": [
    "crossing = df.Crossing.groupby(df.Severity).value_counts()\n",
    "crossing"
   ]
  },
  {
   "cell_type": "code",
   "execution_count": null,
   "id": "0be2432a-7073-4eda-9c04-35aef87bbf4c",
   "metadata": {},
   "outputs": [],
   "source": [
    "df.Turning_Loop.value_counts()"
   ]
  },
  {
   "cell_type": "code",
   "execution_count": null,
   "id": "ca640a34-1bdc-4da4-8f39-6df196f2444f",
   "metadata": {},
   "outputs": [],
   "source": [
    "fig, ax = plt.subplots(3,3, figsize=(20, 20))\n",
    "\n",
    "crossing.unstack().plot(kind='bar', ax=ax[0,0], title=\"Crossing\")\n",
    "bump.unstack().plot(kind='bar', ax=ax[0,1], title=\"Bump\")\n",
    "amenity.unstack().plot(kind='bar', ax=ax[0,2], title=\"Amenity\")\n",
    "give_way.unstack().plot(kind='bar', ax=ax[1,0], title=\"Give Way\")\n",
    "traffic_signal.unstack().plot(kind='bar', ax=ax[1,1], title=\"Traffic Signal\")\n",
    "stop.unstack().plot(kind='bar', ax=ax[1,2], title=\"Stop\")\n",
    "no_exit.unstack().plot(kind='bar', ax=ax[2,0], title=\"No Exit\")\n",
    "traffic_calming.unstack().plot(kind='bar', ax=ax[2,1], title=\"Traffic Calming\")\n",
    "railway.unstack().plot(kind='bar', ax=ax[2,2], title=\"Railway\")"
   ]
  },
  {
   "cell_type": "code",
   "execution_count": null,
   "id": "d83605f0-3f41-4473-a5a3-df102a054f2e",
   "metadata": {},
   "outputs": [],
   "source": [
    "null_cols = [i for i in data.columns if data[i].isnull().any()]\n",
    "print(null_cols)"
   ]
  },
  {
   "cell_type": "code",
   "execution_count": null,
   "id": "35b5a87e-feb9-4eca-b6be-7ecab123e4f7",
   "metadata": {},
   "outputs": [],
   "source": [
    "mn.matrix(data[null_cols]);"
   ]
  },
  {
   "cell_type": "code",
   "execution_count": null,
   "id": "55bf1843-a060-475e-a1e6-4a75ae002c80",
   "metadata": {},
   "outputs": [],
   "source": [
    "new_data_a = data.drop(columns=[\"End_Lng\", \"End_Lat\", \"Number\"], axis=0)"
   ]
  },
  {
   "cell_type": "code",
   "execution_count": null,
   "id": "5c19d93e-37e9-4e7b-8f96-50f26e032055",
   "metadata": {},
   "outputs": [],
   "source": [
    "new_data_b = new_data_a.dropna(subset = ['Visibility(mi)','Weather_Condition','Humidity(%)','Temperature(F)','Wind_Direction','Pressure(in)','Weather_Timestamp','Airport_Code','Timezone','Zipcode','Sunrise_Sunset','Civil_Twilight','Nautical_Twilight','Astronomical_Twilight','City','Description'])"
   ]
  },
  {
   "cell_type": "code",
   "execution_count": null,
   "id": "87d8d071-c066-4dd3-bb30-0860effbae9c",
   "metadata": {},
   "outputs": [],
   "source": [
    "new_data_b.isnull().sum()"
   ]
  },
  {
   "cell_type": "code",
   "execution_count": null,
   "id": "adffb58f-50a6-4268-868c-a393e86202f6",
   "metadata": {},
   "outputs": [],
   "source": [
    "final_data = new_data_b.drop(columns = 'ID', axis=0)"
   ]
  },
  {
   "cell_type": "code",
   "execution_count": null,
   "id": "42fe61af-5c95-476a-8f3a-b43bc667c0b2",
   "metadata": {},
   "outputs": [],
   "source": [
    "final_data.isnull().sum()"
   ]
  },
  {
   "cell_type": "code",
   "execution_count": null,
   "id": "5420ab90-1a6a-4e91-880f-ed1ea0b54df4",
   "metadata": {},
   "outputs": [],
   "source": [
    "state_counts = final_data[\"State\"].value_counts()\n",
    "fig = go.Figure(data=go.Choropleth(locations=state_counts.index, z=state_counts.values.astype(float), locationmode=\"USA-states\", colorscale=\"turbo\"))\n",
    "fig.update_layout(title_text=\"Number of Accidents for each State\", geo_scope=\"usa\")\n",
    "fig.show()"
   ]
  },
  {
   "cell_type": "code",
   "execution_count": null,
   "id": "1b61102f-0fb1-43cb-8961-6e62bdaf6805",
   "metadata": {},
   "outputs": [],
   "source": [
    "print(\"State Code: \", final_data.State.unique())\n",
    "print(\"Total No. of State in Dataset: \", len(final_data.State.unique()))"
   ]
  },
  {
   "cell_type": "code",
   "execution_count": null,
   "id": "fc124b1d-88e1-4b9b-a14a-363917e028df",
   "metadata": {},
   "outputs": [],
   "source": [
    "fig, ax = plt.subplots(figsize = (20,5))\n",
    "c = sns.countplot(x=\"State\", data=final_data, orient = 'v', palette = \"crest_r\", order = final_data['State'].value_counts().index)\n",
    "c.set_title(\"States with No. of Accidents\");"
   ]
  },
  {
   "cell_type": "code",
   "execution_count": null,
   "id": "20634782-3c63-48c3-991d-1fb0fc438714",
   "metadata": {},
   "outputs": [],
   "source": [
    "fig, ax = plt.subplots(figsize = (20,5))\n",
    "c = sns.countplot(x=\"City\", data=final_data, order=final_data.City.value_counts().iloc[:50].index, orient = 'v', palette = \"crest_r\")\n",
    "c.set_title(\"Top 50 Cities with Highest No. of Accidents\")\n",
    "c.set_xticklabels(c.get_xticklabels(), rotation=90)\n",
    "plt.show()"
   ]
  },
  {
   "cell_type": "code",
   "execution_count": null,
   "id": "f3fffad3-4c1b-461b-a4b1-260d523cdf7a",
   "metadata": {},
   "outputs": [],
   "source": [
    "final_data.Start_Time = pd.to_datetime(final_data.Start_Time)\n",
    "final_data.Start_Time[0]"
   ]
  },
  {
   "cell_type": "code",
   "execution_count": null,
   "id": "bf943b32-fe2e-405a-9cf3-92240ccf1d97",
   "metadata": {},
   "outputs": [],
   "source": [
    "final_data['Month'] = final_data['Start_Time'].dt.month\n",
    "final_data['Year'] = final_data['Start_Time'].dt.year\n",
    "final_data['Hour'] = final_data['Start_Time'].dt.hour\n",
    "final_data['Weekday'] = final_data['Start_Time'].dt.weekday\n",
    "#yearly data subset \n",
    "data_2016 = final_data[final_data.Start_Time.dt.year == 2016]\n",
    "data_2017 = final_data[final_data.Start_Time.dt.year == 2017]\n",
    "data_2018 = final_data[final_data.Start_Time.dt.year == 2018]\n",
    "data_2019 = final_data[final_data.Start_Time.dt.year == 2019]\n",
    "data_2020 = final_data[final_data.Start_Time.dt.year == 2020]\n",
    "data_2017_2019 = final_data[(final_data[\"Year\"] >= 2017) & (final_data[\"Year\"] <= 2019)]"
   ]
  },
  {
   "cell_type": "code",
   "execution_count": null,
   "id": "8d60cd56-84fb-4952-a4f9-708518d6ef06",
   "metadata": {},
   "outputs": [],
   "source": [
    "fig, ax = plt.subplots(figsize = (10,5))\n",
    "c = sns.countplot(x=\"Year\", data=final_data, orient = 'v', palette = \"crest\")\n",
    "plt.annotate('Data Not Available',xy=(-0.4,500000), fontsize=11)\n",
    "c.set_title(\"No. of Accidents in Year\")\n",
    "for i in ax.patches:\n",
    "    count = '{:,.0f}'.format(i.get_height())\n",
    "    x = i.get_x()+i.get_width()-0.60\n",
    "    y = i.get_height()+10000\n",
    "    ax.annotate(count, (x, y))\n",
    "plt.show()"
   ]
  },
  {
   "cell_type": "code",
   "execution_count": null,
   "id": "72aab551-a289-4129-9c67-35ed0ca4c15b",
   "metadata": {},
   "outputs": [],
   "source": [
    "fig, ax = plt.subplots(figsize = (10,5))\n",
    "c = sns.countplot(x=\"Month\", data=data_2016, orient = 'v', palette = \"crest\")\n",
    "plt.annotate('Data Not Available',xy=(2,50000), fontsize=11)\n",
    "c.set_title(\"No. of Accidents in Months of Year 2016\")\n",
    "plt.show()"
   ]
  },
  {
   "cell_type": "code",
   "execution_count": null,
   "id": "230d7550-1ea2-461f-9c35-28d8f990ac58",
   "metadata": {},
   "outputs": [],
   "source": [
    "fig, ax = plt.subplots(figsize = (10,5))\n",
    "c = sns.countplot(x=\"Month\", data=data_2016, orient = 'v', palette = \"crest\")\n",
    "plt.annotate('Data Not Available',xy=(2,50000), fontsize=11)\n",
    "c.set_title(\"No. of Accidents in Months of Year 2016\")\n",
    "plt.show()"
   ]
  },
  {
   "cell_type": "code",
   "execution_count": null,
   "id": "c58f0e72-cb37-4084-bc09-47c16b6210c1",
   "metadata": {},
   "outputs": [],
   "source": [
    "fig, ax = plt.subplots(figsize = (10,5))\n",
    "c = sns.countplot(x=\"Month\", data=data_2020, orient = 'v', palette = \"crest\")\n",
    "plt.annotate('Covid-19 Pandemic',xy=(2,150000), fontsize=12)\n",
    "plt.annotate(\"[\",xy=(0,0),xytext=(1.9,150000),arrowprops={'arrowstyle':'-|>'}, fontsize=12)\n",
    "plt.annotate(\"]\",xy=(10,0),xytext=(4.5,150000),arrowprops={'arrowstyle':'-|>'}, fontsize=12)\n",
    "c.set_title(\"No. of Accidents in Month of Year 2020\")\n",
    "plt.show()"
   ]
  },
  {
   "cell_type": "code",
   "execution_count": null,
   "id": "a5ff2103-bb39-4cc6-ab9b-ebdbf5e03b52",
   "metadata": {},
   "outputs": [],
   "source": []
  }
 ],
 "metadata": {
  "kernelspec": {
   "display_name": "Python 3 (ipykernel)",
   "language": "python",
   "name": "python3"
  },
  "language_info": {
   "codemirror_mode": {
    "name": "ipython",
    "version": 3
   },
   "file_extension": ".py",
   "mimetype": "text/x-python",
   "name": "python",
   "nbconvert_exporter": "python",
   "pygments_lexer": "ipython3",
   "version": "3.10.6"
  }
 },
 "nbformat": 4,
 "nbformat_minor": 5
}
